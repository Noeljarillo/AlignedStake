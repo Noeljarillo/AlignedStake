{
 "cells": [
  {
   "cell_type": "code",
   "execution_count": null,
   "metadata": {},
   "outputs": [],
   "source": [
    "import pandas as pd\n",
    "BASE_URL = \"https://voyager.online/api/staking/validators\"\n",
    "page_size = 50\n",
    "\n",
    "# Iterate over pages 1 to 3 (adjust the range as needed)\n",
    "for p in range(1, 4):\n",
    "    url = f\"{BASE_URL}?search=&p={p}&ps={page_size}\"\n",
    "    data = requests.get(url).json()\n",
    "    print(f\"Page {p}:\")\n",
    "    print(data)\n"
   ]
  },
  {
   "cell_type": "code",
   "execution_count": null,
   "metadata": {},
   "outputs": [],
   "source": [
    "host = \"https://voyager.online/api/staking/validators?search=&p=1&ps=20\"\n",
    "\n",
    "result = requests.get(host).json()\n",
    "result\n",
    "\n",
    "\n",
    "\n",
    "\n",
    "\n"
   ]
  },
  {
   "cell_type": "code",
   "execution_count": 4,
   "metadata": {},
   "outputs": [
    {
     "name": "stdout",
     "output_type": "stream",
     "text": [
      "Inserted data from page 1\n",
      "Inserted data from page 2\n",
      "Inserted data from page 3\n"
     ]
    }
   ],
   "source": [
    "import requests\n",
    "import psycopg2\n",
    "\n",
    "# PostgreSQL connection details - update these with your credentials\n",
    "conn = psycopg2.connect(\n",
    "    dbname=\"mydatabase\",\n",
    "    user=\"user\",\n",
    "    password=\"password\",\n",
    "    host=\"localhost\",\n",
    "    port=\"5432\"  # typically 5432\n",
    ")\n",
    "cur = conn.cursor()\n",
    "\n",
    "# Create the \"validators\" table if it doesn't exist, using proper numeric types\n",
    "create_table_query = \"\"\"\n",
    "CREATE TABLE IF NOT EXISTS validators (\n",
    "    address TEXT PRIMARY KEY,\n",
    "    tokenAddress TEXT,\n",
    "    isVerified BOOLEAN,\n",
    "    totalStake NUMERIC,             -- changed from TEXT to NUMERIC\n",
    "    totalStakePercentage NUMERIC,   -- changed from INTEGER to NUMERIC if decimals are needed\n",
    "    ownStake NUMERIC,               -- changed from TEXT to NUMERIC\n",
    "    delegatedStake NUMERIC,         -- changed from TEXT to NUMERIC\n",
    "    totalDelegators INTEGER,\n",
    "    revenueShare NUMERIC,           -- changed from INTEGER to NUMERIC if needed\n",
    "    apr NUMERIC,                    -- changed from INTEGER to NUMERIC if decimals are needed\n",
    "    rank TEXT,\n",
    "    name TEXT,\n",
    "    imgSrc TEXT,\n",
    "    startTime BIGINT,\n",
    "    poolAddress TEXT,\n",
    "    stakerAddress TEXT\n",
    ");\n",
    "\"\"\"\n",
    "cur.execute(create_table_query)\n",
    "conn.commit()\n",
    "\n",
    "BASE_URL = \"https://voyager.online/api/staking/validators\"\n",
    "page_size = 100\n",
    "\n",
    "# Iterate over pages 1, 2, and 3 (adjust the range as needed)\n",
    "for p in range(1, 4):\n",
    "    url = f\"{BASE_URL}?search=&p={p}&ps={page_size}\"\n",
    "    response = requests.get(url)\n",
    "    data = response.json()\n",
    "    items = data.get(\"items\", [])\n",
    "    \n",
    "    # Insert each item into the Postgres table\n",
    "    for item in items:\n",
    "        query = \"\"\"\n",
    "        INSERT INTO validators (\n",
    "            address, tokenAddress, isVerified, totalStake, totalStakePercentage,\n",
    "            ownStake, delegatedStake, totalDelegators, revenueShare, apr, rank,\n",
    "            name, imgSrc, startTime, poolAddress, stakerAddress\n",
    "        )\n",
    "        VALUES (%s, %s, %s, %s, %s, %s, %s, %s, %s, %s, %s, %s, %s, %s, %s, %s)\n",
    "        ON CONFLICT (address) DO NOTHING;\n",
    "        \"\"\"\n",
    "        values = (\n",
    "            item.get(\"address\"),\n",
    "            item.get(\"tokenAddress\"),\n",
    "            item.get(\"isVerified\"),\n",
    "            item.get(\"totalStake\"),\n",
    "            item.get(\"totalStakePercentage\"),\n",
    "            item.get(\"ownStake\"),\n",
    "            item.get(\"delegatedStake\"),\n",
    "            item.get(\"totalDelegators\"),\n",
    "            item.get(\"revenueShare\"),\n",
    "            item.get(\"apr\"),\n",
    "            item.get(\"rank\"),\n",
    "            item.get(\"name\"),\n",
    "            item.get(\"imgSrc\"),\n",
    "            item.get(\"startTime\"),\n",
    "            item.get(\"poolAddress\"),\n",
    "            item.get(\"stakerAddress\")\n",
    "        )\n",
    "        cur.execute(query, values)\n",
    "    \n",
    "    conn.commit()\n",
    "    print(f\"Inserted data from page {p}\")\n",
    "\n",
    "cur.close()\n",
    "conn.close()"
   ]
  },
  {
   "cell_type": "code",
   "execution_count": 3,
   "metadata": {},
   "outputs": [
    {
     "name": "stdout",
     "output_type": "stream",
     "text": [
      "15209196.437081446278959945\n"
     ]
    }
   ],
   "source": [
    "import requests\n",
    "import psycopg2\n",
    "\n",
    "# PostgreSQL connection details - update these with your credentials\n",
    "conn = psycopg2.connect(\n",
    "    dbname=\"mydatabase\",\n",
    "    user=\"user\",\n",
    "    password=\"password\",\n",
    "    host=\"localhost\",\n",
    "    port=\"5432\"  # typically 5432\n",
    ")\n",
    "cur = conn.cursor()\n",
    "\n",
    "query_get_avg_delegated_stake_top_10 = \"\"\"SELECT AVG(delegatedStake) \n",
    "FROM (\n",
    "    SELECT delegatedStake \n",
    "    FROM validators \n",
    "    ORDER BY delegatedStake DESC\n",
    "    limit 10\n",
    ") subquery;\"\"\"\n",
    "\n",
    "\n",
    "cur.execute(query_get_avg_delegated_stake_top_10)\n",
    "result = cur.fetchall()\n",
    "print(result[0][0] / 10**18)\n",
    "\n",
    "cur.close()\n",
    "conn.close()\n"
   ]
  }
 ],
 "metadata": {
  "kernelspec": {
   "display_name": "Python 3",
   "language": "python",
   "name": "python3"
  },
  "language_info": {
   "codemirror_mode": {
    "name": "ipython",
    "version": 3
   },
   "file_extension": ".py",
   "mimetype": "text/x-python",
   "name": "python",
   "nbconvert_exporter": "python",
   "pygments_lexer": "ipython3",
   "version": "3.13.0"
  }
 },
 "nbformat": 4,
 "nbformat_minor": 2
}
