{
 "cells": [
  {
   "cell_type": "code",
   "execution_count": null,
   "metadata": {},
   "outputs": [],
   "source": [
    "import pandas as pd\n",
    "BASE_URL = \"https://voyager.online/api/staking/validators\"\n",
    "page_size = 50\n",
    "\n",
    "# Iterate over pages 1 to 3 (adjust the range as needed)\n",
    "for p in range(1, 4):\n",
    "    url = f\"{BASE_URL}?search=&p={p}&ps={page_size}\"\n",
    "    data = requests.get(url).json()\n",
    "    print(f\"Page {p}:\")\n",
    "    print(data)\n"
   ]
  },
  {
   "cell_type": "code",
   "execution_count": 4,
   "metadata": {},
   "outputs": [
    {
     "name": "stdout",
     "output_type": "stream",
     "text": [
      "Inserted data from page 1\n",
      "Inserted data from page 2\n",
      "Inserted data from page 3\n"
     ]
    }
   ],
   "source": [
    "import requests\n",
    "import psycopg2\n",
    "\n",
    "conn = psycopg2.connect(\n",
    "    dbname=\"mydatabase\",\n",
    "    user=\"user\",\n",
    "    password=\"password\",\n",
    "    host=\"localhost\",\n",
    "    port=\"5432\"  # typically 5432\n",
    ")\n",
    "cur = conn.cursor()\n",
    "\n",
    "create_table_query = \"\"\"\n",
    "CREATE TABLE IF NOT EXISTS validators (\n",
    "    address TEXT PRIMARY KEY,\n",
    "    tokenAddress TEXT,\n",
    "    isVerified BOOLEAN,\n",
    "    totalStake NUMERIC,             -- changed from TEXT to NUMERIC\n",
    "    totalStakePercentage NUMERIC,   -- changed from INTEGER to NUMERIC if decimals are needed\n",
    "    ownStake NUMERIC,               -- changed from TEXT to NUMERIC\n",
    "    delegatedStake NUMERIC,         -- changed from TEXT to NUMERIC\n",
    "    totalDelegators INTEGER,\n",
    "    revenueShare NUMERIC,           -- changed from INTEGER to NUMERIC if needed\n",
    "    apr NUMERIC,                    -- changed from INTEGER to NUMERIC if decimals are needed\n",
    "    rank TEXT,\n",
    "    name TEXT,\n",
    "    imgSrc TEXT,\n",
    "    startTime BIGINT,\n",
    "    poolAddress TEXT,\n",
    "    stakerAddress TEXT\n",
    ");\n",
    "\"\"\"\n",
    "cur.execute(create_table_query)\n",
    "conn.commit()\n",
    "\n",
    "BASE_URL = \"https://voyager.online/api/staking/validators\"\n",
    "page_size = 100\n",
    "\n",
    "for p in range(1, 4):\n",
    "    url = f\"{BASE_URL}?search=&p={p}&ps={page_size}\"\n",
    "    response = requests.get(url)\n",
    "    data = response.json()\n",
    "    items = data.get(\"items\", [])\n",
    "    \n",
    "    for item in items:\n",
    "        query = \"\"\"\n",
    "        INSERT INTO validators (\n",
    "            address, tokenAddress, isVerified, totalStake, totalStakePercentage,\n",
    "            ownStake, delegatedStake, totalDelegators, revenueShare, apr, rank,\n",
    "            name, imgSrc, startTime, poolAddress, stakerAddress\n",
    "        )\n",
    "        VALUES (%s, %s, %s, %s, %s, %s, %s, %s, %s, %s, %s, %s, %s, %s, %s, %s)\n",
    "        ON CONFLICT (address) DO NOTHING;\n",
    "        \"\"\"\n",
    "        values = (\n",
    "            item.get(\"address\"),\n",
    "            item.get(\"tokenAddress\"),\n",
    "            item.get(\"isVerified\"),\n",
    "            item.get(\"totalStake\"),\n",
    "            item.get(\"totalStakePercentage\"),\n",
    "            item.get(\"ownStake\"),\n",
    "            item.get(\"delegatedStake\"),\n",
    "            item.get(\"totalDelegators\"),\n",
    "            item.get(\"revenueShare\"),\n",
    "            item.get(\"apr\"),\n",
    "            item.get(\"rank\"),\n",
    "            item.get(\"name\"),\n",
    "            item.get(\"imgSrc\"),\n",
    "            item.get(\"startTime\"),\n",
    "            item.get(\"poolAddress\"),\n",
    "            item.get(\"stakerAddress\")\n",
    "        )\n",
    "        cur.execute(query, values)\n",
    "    \n",
    "    conn.commit()\n",
    "    print(f\"Inserted data from page {p}\")\n",
    "\n",
    "cur.close()\n",
    "conn.close()"
   ]
  },
  {
   "cell_type": "code",
   "execution_count": 3,
   "metadata": {},
   "outputs": [
    {
     "name": "stdout",
     "output_type": "stream",
     "text": [
      "15209196.437081446278959945\n"
     ]
    }
   ],
   "source": [
    "import requests\n",
    "import psycopg2\n",
    "\n",
    "\n",
    "conn = psycopg2.connect(\n",
    "    dbname=\"mydatabase\",\n",
    "    user=\"user\",\n",
    "    password=\"password\",\n",
    "    host=\"localhost\",\n",
    "    port=\"5432\" \n",
    ")\n",
    "cur = conn.cursor()\n",
    "\n",
    "query_get_avg_delegated_stake_top_10 = \"\"\"SELECT AVG(delegatedStake) \n",
    "FROM (\n",
    "    SELECT delegatedStake \n",
    "    FROM validators \n",
    "    ORDER BY delegatedStake DESC\n",
    "    limit 10\n",
    ") subquery;\"\"\"\n",
    "\n",
    "\n",
    "cur.execute(query_get_avg_delegated_stake_top_10)\n",
    "result = cur.fetchall()\n",
    "print(result[0][0] / 10**18)\n",
    "\n",
    "cur.close()\n",
    "conn.close()\n"
   ]
  },
  {
   "cell_type": "code",
   "execution_count": 12,
   "metadata": {},
   "outputs": [
    {
     "name": "stdout",
     "output_type": "stream",
     "text": [
      "{'jsonrpc': '2.0', 'result': ['0xde0b6b3a7640000', '0x0'], 'id': 1}\n",
      "Allowance (hex): 0xde0b6b3a7640000\n",
      "Allowance (dec): 1000000000000000000\n"
     ]
    }
   ],
   "source": [
    "import requests\n",
    "\n",
    "selector = \"0x1e888a1026b19c8c0b57c72d63ed1737106aa10034105b980ba117bd0c29fe1\"\n",
    "\n",
    "RPC_URL = \"https://free-rpc.nethermind.io/mainnet-juno/v0_7\"\n",
    "\n",
    "contract_address = \"0x04718f5a0fc34cc1af16a1cdee98ffb20c31f5cd61d6ab07201858f4287c938d\"\n",
    "owner = \"0x030016e7beABe590593a1958e31D2aFa2D06754Ea8468e3e720c781c3cA690d6\"\n",
    "spender = \"0x071c4334c5b387cbc84a3a62b16c6eb0481bf596054d18fd983e5f3fc27e489b\"\n",
    "\n",
    "payload = {\n",
    "    \"jsonrpc\": \"2.0\",\n",
    "    \"method\": \"starknet_call\",\n",
    "    \"params\": [\n",
    "        {\n",
    "            \"contract_address\": contract_address,\n",
    "            \"entry_point_selector\": selector,\n",
    "            \"calldata\": [owner, spender]\n",
    "        },\n",
    "        \"latest\"\n",
    "    ],\n",
    "    \"id\": 1\n",
    "}\n",
    "\n",
    "r = requests.post(RPC_URL, json=payload)\n",
    "result = r.json()\n",
    "print(result)\n",
    "\n",
    "if \"result\" in result:\n",
    "    allowance_hex = result[\"result\"][0]\n",
    "    print(\"Allowance (hex):\", allowance_hex)\n",
    "    print(\"Allowance (dec):\", int(allowance_hex, 16))\n",
    "else:\n",
    "    print(\"Error:\", result.get(\"error\"))\n"
   ]
  }
 ],
 "metadata": {
  "kernelspec": {
   "display_name": "Python 3",
   "language": "python",
   "name": "python3"
  },
  "language_info": {
   "codemirror_mode": {
    "name": "ipython",
    "version": 3
   },
   "file_extension": ".py",
   "mimetype": "text/x-python",
   "name": "python",
   "nbconvert_exporter": "python",
   "pygments_lexer": "ipython3",
   "version": "3.13.0"
  }
 },
 "nbformat": 4,
 "nbformat_minor": 2
}
